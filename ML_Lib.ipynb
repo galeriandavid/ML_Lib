{
  "nbformat": 4,
  "nbformat_minor": 0,
  "metadata": {
    "colab": {
      "name": "ML_Lib.ipynb",
      "provenance": [],
      "authorship_tag": "ABX9TyMB7oc9PoDDIkOe+oL7LS72"
    },
    "kernelspec": {
      "name": "python3",
      "display_name": "Python 3"
    }
  },
  "cells": [
    {
      "cell_type": "code",
      "metadata": {
        "id": "XB9zSiYlEcUc",
        "colab_type": "code",
        "colab": {}
      },
      "source": [
        "!pip install category_encoders"
      ],
      "execution_count": 0,
      "outputs": []
    },
    {
      "cell_type": "code",
      "metadata": {
        "id": "_WaGi-GoDYwO",
        "colab_type": "code",
        "colab": {}
      },
      "source": [
        "from  datetime import datetime, timedelta\n",
        "import gc\n",
        "import pickle\n",
        "import numpy as np, pandas as pd\n",
        "import lightgbm as lgb\n",
        "\n",
        "import category_encoders as ce\n",
        "# Настройки отображения в pandas\n",
        "pd.options.display.max_columns = 50"
      ],
      "execution_count": 0,
      "outputs": []
    },
    {
      "cell_type": "code",
      "metadata": {
        "id": "EVFagTc-EikL",
        "colab_type": "code",
        "colab": {}
      },
      "source": [
        "class Memory_reducer:\n",
        "  '''\n",
        "  Reduce RAM usage\n",
        "  '''\n",
        "  def __init__():\n",
        "    pass\n",
        "  def DF_mem_reduce(df):\n",
        "    '''\n",
        "    Reduce memory size of data frame\n",
        "    '''\n",
        "    start_mem = df.memory_usage().sum() / 1024 ** 2\n",
        "    int_columns = df.select_dtypes(include=[\"int\"]).columns\n",
        "    float_columns = df.select_dtypes(include=[\"float\"]).columns\n",
        "    for col in int_columns:\n",
        "        df[col] = pd.to_numeric(df[col], downcast=\"integer\")\n",
        "    for col in float_columns:\n",
        "        df[col] = pd.to_numeric(df[col], downcast=\"float\")\n",
        "    end_mem = df.memory_usage().sum() / 1024 ** 2\n",
        "    print(\"Mem. usage decreased to {:5.2f} Mb ({:.1f}% reduction)\".format(\n",
        "                end_mem, 100 * (start_mem - end_mem) / start_mem))\n",
        "    return df"
      ],
      "execution_count": 0,
      "outputs": []
    },
    {
      "cell_type": "code",
      "metadata": {
        "id": "Wn53RDY7HPay",
        "colab_type": "code",
        "colab": {}
      },
      "source": [
        "class My_Reader(Memory_reducer):\n",
        "  def __init__(self, mem_red=True, info=False):\n",
        "    self.mem_red = mem_red\n",
        "    self.info = info\n",
        "  def mem_reduce(df):\n",
        "    Memory_reducer.DF_mem_reduce(df)\n",
        "  def read_file(self, path, params=False):\n",
        "    name = (path.split('\\\\')[-1])\n",
        "    print(f'reading file {name}  ', end='')\n",
        "    if not params:\n",
        "      data = pd.read_csv(path)\n",
        "    else:\n",
        "      data = pd.read_csv(path, **params)\n",
        "    print('OK')\n",
        "    if self.mem_red:\n",
        "      My_Reader.mem_reduce(data)\n",
        "    if self.info:\n",
        "      display(data)\n",
        "    gc.collect()\n",
        "    return data   "
      ],
      "execution_count": 0,
      "outputs": []
    },
    {
      "cell_type": "code",
      "metadata": {
        "id": "KlqWbCCpHPd8",
        "colab_type": "code",
        "colab": {}
      },
      "source": [
        ""
      ],
      "execution_count": 0,
      "outputs": []
    },
    {
      "cell_type": "code",
      "metadata": {
        "id": "ZzU2psLzHPks",
        "colab_type": "code",
        "colab": {}
      },
      "source": [
        ""
      ],
      "execution_count": 0,
      "outputs": []
    }
  ]
}