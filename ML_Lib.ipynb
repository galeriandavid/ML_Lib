{
  "nbformat": 4,
  "nbformat_minor": 0,
  "metadata": {
    "colab": {
      "name": "ML_Lib.ipynb",
      "provenance": [],
      "authorship_tag": "ABX9TyM0B7ESoucpA4k/wPuqMBCR",
      "include_colab_link": true
    },
    "kernelspec": {
      "name": "python3",
      "display_name": "Python 3"
    }
  },
  "cells": [
    {
      "cell_type": "markdown",
      "metadata": {
        "id": "view-in-github",
        "colab_type": "text"
      },
      "source": [
        "<a href=\"https://colab.research.google.com/github/galeriandavid/ML_Lib/blob/master/ML_Lib.ipynb\" target=\"_parent\"><img src=\"https://colab.research.google.com/assets/colab-badge.svg\" alt=\"Open In Colab\"/></a>"
      ]
    },
    {
      "cell_type": "code",
      "metadata": {
        "id": "XB9zSiYlEcUc",
        "colab_type": "code",
        "colab": {}
      },
      "source": [
        "!pip install category_encoders"
      ],
      "execution_count": 0,
      "outputs": []
    },
    {
      "cell_type": "code",
      "metadata": {
        "id": "_WaGi-GoDYwO",
        "colab_type": "code",
        "colab": {}
      },
      "source": [
        "from  datetime import datetime, timedelta\n",
        "import gc\n",
        "import pickle\n",
        "import numpy as np, pandas as pd\n",
        "import lightgbm as lgb\n",
        "\n",
        "import category_encoders as ce\n",
        "# Настройки отображения в pandas\n",
        "pd.options.display.max_columns = 50"
      ],
      "execution_count": 0,
      "outputs": []
    },
    {
      "cell_type": "code",
      "metadata": {
        "id": "EVFagTc-EikL",
        "colab_type": "code",
        "colab": {}
      },
      "source": [
        "class Memory_reducer:\n",
        "  '''\n",
        "  Reduce RAM usage\n",
        "  '''\n",
        "  def __init__():\n",
        "    pass\n",
        "  def DF_mem_reduce(df):\n",
        "    '''\n",
        "    Reduce memory size of data frame\n",
        "    '''\n",
        "    start_mem = df.memory_usage().sum() / 1024 ** 2\n",
        "    int_columns = df.select_dtypes(include=[\"int\"]).columns\n",
        "    float_columns = df.select_dtypes(include=[\"float\"]).columns\n",
        "    for col in int_columns:\n",
        "        df[col] = pd.to_numeric(df[col], downcast=\"integer\")\n",
        "    for col in float_columns:\n",
        "        df[col] = pd.to_numeric(df[col], downcast=\"float\")\n",
        "    end_mem = df.memory_usage().sum() / 1024 ** 2\n",
        "    print(\"Mem. usage decreased to {:5.2f} Mb ({:.1f}% reduction)\".format(\n",
        "                end_mem, 100 * (start_mem - end_mem) / start_mem))\n",
        "    return df"
      ],
      "execution_count": 0,
      "outputs": []
    }
  ]
}