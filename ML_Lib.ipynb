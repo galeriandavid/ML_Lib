{
  "nbformat": 4,
  "nbformat_minor": 0,
  "metadata": {
    "colab": {
      "name": "ML_Lib.ipynb",
      "provenance": [],
      "authorship_tag": "ABX9TyOvj6HOLog4GawtZ/wZTXTq"
    },
    "kernelspec": {
      "name": "python3",
      "display_name": "Python 3"
    }
  },
  "cells": [
    {
      "cell_type": "code",
      "metadata": {
        "id": "XB9zSiYlEcUc",
        "colab_type": "code",
        "colab": {}
      },
      "source": [
        "!pip install category_encoders"
      ],
      "execution_count": 0,
      "outputs": []
    },
    {
      "cell_type": "code",
      "metadata": {
        "id": "_WaGi-GoDYwO",
        "colab_type": "code",
        "colab": {}
      },
      "source": [
        "from  datetime import datetime, timedelta\n",
        "import gc\n",
        "import pickle\n",
        "import numpy as np, pandas as pd\n",
        "import lightgbm as lgb\n",
        "\n",
        "import category_encoders as ce\n",
        "# Настройки отображения в pandas\n",
        "pd.options.display.max_columns = 50"
      ],
      "execution_count": 0,
      "outputs": []
    },
    {
      "cell_type": "code",
      "metadata": {
        "id": "EVFagTc-EikL",
        "colab_type": "code",
        "colab": {}
      },
      "source": [
        "class Memory_reducer:\n",
        "  '''\n",
        "  Reduce RAM usage\n",
        "  '''\n",
        "  def __init__():\n",
        "    pass\n",
        "  def DF_mem_reduce(df):\n",
        "    '''\n",
        "    Reduce memory size of data frame\n",
        "    '''\n",
        "    start_mem = df.memory_usage().sum() / 1024 ** 2\n",
        "    int_columns = df.select_dtypes(include=[\"int\"]).columns\n",
        "    float_columns = df.select_dtypes(include=[\"float\"]).columns\n",
        "    for col in int_columns:\n",
        "        df[col] = pd.to_numeric(df[col], downcast=\"integer\")\n",
        "    for col in float_columns:\n",
        "        df[col] = pd.to_numeric(df[col], downcast=\"float\")\n",
        "    end_mem = df.memory_usage().sum() / 1024 ** 2\n",
        "    print(\"Mem. usage decreased to {:5.2f} Mb ({:.1f}% reduction)\".format(\n",
        "                end_mem, 100 * (start_mem - end_mem) / start_mem))\n",
        "    return df"
      ],
      "execution_count": 0,
      "outputs": []
    },
    {
      "cell_type": "code",
      "metadata": {
        "id": "Wn53RDY7HPay",
        "colab_type": "code",
        "colab": {}
      },
      "source": [
        "class My_Reader(Memory_reducer):\n",
        "  def __init__(self, mem_red=True, info=False):\n",
        "    self.mem_red = mem_red\n",
        "    self.info = info\n",
        "  def mem_reduce(df):\n",
        "    Memory_reducer.DF_mem_reduce(df)\n",
        "  def read_file(self, path, params=False):\n",
        "    name = (path.split('\\\\')[-1])\n",
        "    print(f'reading file {name}  ', end='')\n",
        "    if not params:\n",
        "      data = pd.read_csv(path)\n",
        "    else:\n",
        "      data = pd.read_csv(path, **params)\n",
        "    print('OK')\n",
        "    if self.mem_red:\n",
        "      My_Reader.mem_reduce(data)\n",
        "    if self.info:\n",
        "      display(data)\n",
        "    gc.collect()\n",
        "    return data   "
      ],
      "execution_count": 0,
      "outputs": []
    },
    {
      "cell_type": "code",
      "metadata": {
        "id": "KlqWbCCpHPd8",
        "colab_type": "code",
        "colab": {}
      },
      "source": [
        "class Fea_Fabric:\n",
        "  ''' Produce some features '''\n",
        "  def __init__(self):\n",
        "    pass\n",
        "\n",
        "  def add_lag(self,  col_name, lag, group=False):\n",
        "    ''' Add one lag '''\n",
        "    lag_col = f\"{col_name}_lag_{lag}\"\n",
        "    if group:\n",
        "      if type(group) is list: temp = group.append(col_name) \n",
        "      else: temp = [group, col_name]\n",
        "      self.data[lag_col] = self.data[temp].groupby(group)[col_name].shift(lag)\n",
        "    else:\n",
        "      self.data[lag_col] = self.data[col_name].shift(lag)\n",
        "\n",
        "  def add_lags(self, col_name, lags, group=False,):\n",
        "    ''' Add many lag '''\n",
        "    if type(lags) is list:\n",
        "      for lag in lags:\n",
        "        self.add_lag(col_name, lag, group)\n",
        "    else:\n",
        "      self.add_lag(col_name, lag, group)\n",
        "\n",
        "  def add_rolling_window(self, col_name, win, func, group=False):\n",
        "    ''' Add rolling window '''\n",
        "    new_col = f'r{func}_{col_name}_{win}'\n",
        "    if group:\n",
        "      if type(group) is list: temp = group.append(col_name)\n",
        "      else: temp = [group, col_name]\n",
        "      self.data[new_col] = self.data[temp] \\\n",
        "                               .groupby(group)[col_name] \\\n",
        "                               .transform(lambda x : x.rolling(win).agg(func))\n",
        "    else:\n",
        "      self.data[new_col] = self.data[temp] \\\n",
        "                               .transform(lambda x : x.rolling(win).agg(func))\n",
        "\n",
        "\n",
        "  def add_rolling_windows(self, col_name, wins, func, group=False):\n",
        "    ''' Add many rolling windows '''\n",
        "    for win in wins:\n",
        "      self.add_rolling_window(col_name, win, func, group)\n",
        "  \n",
        "  def add_date_features(self, date_col):\n",
        "    ''' \n",
        "    Convert datetime column into separate year, month,\n",
        "    week of year, quarter, week day, month day features\n",
        "    '''\n",
        "    date_features = {\n",
        "        \"wday\": \"weekday\",\n",
        "        \"week\": \"weekofyear\",\n",
        "        \"month\": \"month\",\n",
        "        \"quarter\": \"quarter\",\n",
        "        \"year\": \"year\",\n",
        "        \"mday\": \"day\",\n",
        "                    }\n",
        "    for date_feat_name, date_feat_func in date_features.items():\n",
        "        if date_feat_name in self.data.columns:\n",
        "            self.data[date_feat_name] = self.data[date_feat_name].astype(\"int16\")\n",
        "        else:\n",
        "            self.data[date_feat_name] = getattr(self.data[date_col].dt, date_feat_func).astype(\"int16\")\n",
        "\n",
        "  def target_encoding(self, cat_col):\n",
        "    ''' Target encoding one or meny columns '''\n",
        "    target_enc = ce.TargetEncoder(cols=cat_col)\n",
        "\n",
        "    # Fit the encoder using the categorical features and target\n",
        "    target_enc.fit(self.train[cat_col], self.train[self.target])\n",
        "\n",
        "    # Transform the features, rename the columns with _target suffix, and join to dataframe\n",
        "    self.train = self.train.join(target_enc.transform(self.train[cat_col]).add_suffix('_target'))\n",
        "    self.valid = self.valid.join(target_enc.transform(self.valid[cat_col]).add_suffix('_target'))"
      ],
      "execution_count": 0,
      "outputs": []
    },
    {
      "cell_type": "code",
      "metadata": {
        "id": "ZzU2psLzHPks",
        "colab_type": "code",
        "colab": {}
      },
      "source": [
        ""
      ],
      "execution_count": 0,
      "outputs": []
    }
  ]
}